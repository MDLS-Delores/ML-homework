{
 "metadata": {
  "language_info": {
   "codemirror_mode": {
    "name": "ipython",
    "version": 3
   },
   "file_extension": ".py",
   "mimetype": "text/x-python",
   "name": "python",
   "nbconvert_exporter": "python",
   "pygments_lexer": "ipython3",
   "version": "3.8.3"
  },
  "orig_nbformat": 2,
  "kernelspec": {
   "name": "python383jvsc74a57bd0767d51c1340bd893661ea55ea3124f6de3c7a262a8b4abca0554b478b1e2ff90",
   "display_name": "Python 3.8.3 64-bit ('base': conda)"
  }
 },
 "nbformat": 4,
 "nbformat_minor": 2,
 "cells": [
  {
   "cell_type": "code",
   "execution_count": 1,
   "metadata": {},
   "outputs": [
    {
     "output_type": "execute_result",
     "data": {
      "text/plain": [
       "   target  source  rating          time\n",
       "0       6       2       4  1.289242e+09\n",
       "1       6       5       2  1.289242e+09\n",
       "2       1      15       1  1.289243e+09\n",
       "3       4       3       7  1.289245e+09\n",
       "4      13      16       8  1.289254e+09"
      ],
      "text/html": "<div>\n<style scoped>\n    .dataframe tbody tr th:only-of-type {\n        vertical-align: middle;\n    }\n\n    .dataframe tbody tr th {\n        vertical-align: top;\n    }\n\n    .dataframe thead th {\n        text-align: right;\n    }\n</style>\n<table border=\"1\" class=\"dataframe\">\n  <thead>\n    <tr style=\"text-align: right;\">\n      <th></th>\n      <th>target</th>\n      <th>source</th>\n      <th>rating</th>\n      <th>time</th>\n    </tr>\n  </thead>\n  <tbody>\n    <tr>\n      <th>0</th>\n      <td>6</td>\n      <td>2</td>\n      <td>4</td>\n      <td>1.289242e+09</td>\n    </tr>\n    <tr>\n      <th>1</th>\n      <td>6</td>\n      <td>5</td>\n      <td>2</td>\n      <td>1.289242e+09</td>\n    </tr>\n    <tr>\n      <th>2</th>\n      <td>1</td>\n      <td>15</td>\n      <td>1</td>\n      <td>1.289243e+09</td>\n    </tr>\n    <tr>\n      <th>3</th>\n      <td>4</td>\n      <td>3</td>\n      <td>7</td>\n      <td>1.289245e+09</td>\n    </tr>\n    <tr>\n      <th>4</th>\n      <td>13</td>\n      <td>16</td>\n      <td>8</td>\n      <td>1.289254e+09</td>\n    </tr>\n  </tbody>\n</table>\n</div>"
     },
     "metadata": {},
     "execution_count": 1
    }
   ],
   "source": [
    "import numpy as np \n",
    "import pandas as pd \n",
    "\n",
    "title = ['target','source','rating','time']\n",
    "data = pd.read_csv('soc-sign-bitcoinotc.csv',sep=',',names=title)\n",
    "data.head()"
   ]
  },
  {
   "cell_type": "code",
   "execution_count": 2,
   "metadata": {},
   "outputs": [
    {
     "output_type": "stream",
     "name": "stdout",
     "text": [
      "   0  counter\n0  1        0\n1  2        1\n2  3        2\n3  4        3\n4  5        4\n"
     ]
    }
   ],
   "source": [
    "dd1 = data.set_index('target')['source'].to_dict()\n",
    "dd2 = data.set_index('source')['target'].to_dict()\n",
    "\n",
    "k1 = list(dd1.keys())\n",
    "k2 = list(dd2.keys())\n",
    "\n",
    "en = list(set(k1).union(set(k2)))\n",
    "\n",
    "entities = pd.DataFrame(en)\n",
    "entities['counter'] = range(len(entities))\n",
    "print(entities.head())"
   ]
  },
  {
   "cell_type": "code",
   "execution_count": 6,
   "metadata": {},
   "outputs": [],
   "source": [
    "entities.to_csv('entity2id.txt',header=None,sep='\\t',index=None)"
   ]
  },
  {
   "cell_type": "code",
   "execution_count": 3,
   "metadata": {},
   "outputs": [
    {
     "output_type": "stream",
     "name": "stdout",
     "text": [
      "   rating  counter\n0       4        0\n1       2        1\n2       1        2\n3       7        3\n4       8        4\n"
     ]
    }
   ],
   "source": [
    "entities.columns = ['entity','counter']\n",
    "d = entities.set_index('entity')['counter'].to_dict()\n",
    "title2 = ['ratings','label']\n",
    "r1 = data.set_index('rating')['time'].to_dict()\n",
    "r = list(r1.keys())\n",
    "rr = pd.DataFrame(r)\n",
    "rr['counter'] = range(len(rr))\n",
    "rr.columns = ['rating','counter']\n",
    "print(rr.head())\n",
    "\n"
   ]
  },
  {
   "cell_type": "code",
   "execution_count": 25,
   "metadata": {},
   "outputs": [],
   "source": [
    "rr.to_csv('relation2id.txt',header=None,sep='\\t',index=None)"
   ]
  },
  {
   "cell_type": "code",
   "execution_count": 4,
   "metadata": {},
   "outputs": [
    {
     "output_type": "stream",
     "name": "stdout",
     "text": [
      "   target  source  rating          time   t   s  r\n0       6       2       4  1.289242e+09   5   1  0\n1       6       5       2  1.289242e+09   5   4  1\n2       1      15       1  1.289243e+09   0  11  2\n3       4       3       7  1.289245e+09   3   2  3\n4      13      16       8  1.289254e+09  10  12  4\n"
     ]
    },
    {
     "output_type": "execute_result",
     "data": {
      "text/plain": [
       "'\\nprint(data.head())\\ndata.target.replace(to_replace=d,inplace=True)\\ndata.rating.replace(to_replace=r,inplace=True)\\nprint(data.head())\\n'"
      ]
     },
     "metadata": {},
     "execution_count": 4
    }
   ],
   "source": [
    "r0 = rr.set_index('rating')['counter'].to_dict()\n",
    "def fun(x,d):\n",
    "    return d[x]\n",
    "data['t'] = data['target'].apply(lambda x: fun(x,d))\n",
    "data['s'] = data['source'].apply(lambda x: fun(x,d))\n",
    "data['r'] = data['rating'].apply(lambda x: fun(x,r0))\n",
    "print(data.head())\n",
    "\n",
    "'''\n",
    "print(data.head())\n",
    "data.target.replace(to_replace=d,inplace=True)\n",
    "data.rating.replace(to_replace=r,inplace=True)\n",
    "print(data.head())\n",
    "'''"
   ]
  },
  {
   "cell_type": "code",
   "execution_count": 5,
   "metadata": {},
   "outputs": [],
   "source": [
    "f_data = data[['s','t','r']]\n",
    "f_data.to_csv('soc_all.txt',header=None,sep='\\t',index=None)"
   ]
  },
  {
   "cell_type": "code",
   "execution_count": 6,
   "metadata": {},
   "outputs": [],
   "source": [
    "rand_train_all = f_data.sample(frac=0.8)\n",
    "rand_test = f_data[~f_data.index.isin(rand_train_all.index)]\n",
    "\n",
    "rand_train_all.to_csv('train_all.txt',header=None,sep='\\t',index=None)\n",
    "rand_test.to_csv('test2id.txt',header=None,sep='\\t',index=None)\n",
    "\n",
    "rand_train = rand_train_all.sample(frac=0.75)\n",
    "rand_valid = rand_train_all[~rand_train_all.index.isin(rand_train.index)]\n",
    "\n",
    "rand_train.to_csv('train2id.txt',header=None,sep='\\t',index=None)\n",
    "rand_valid.to_csv('valid2id.txt',header=None,sep='\\t',index=None)"
   ]
  },
  {
   "cell_type": "code",
   "execution_count": null,
   "metadata": {},
   "outputs": [],
   "source": []
  }
 ]
}
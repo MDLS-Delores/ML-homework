{
 "metadata": {
  "language_info": {
   "codemirror_mode": {
    "name": "ipython",
    "version": 3
   },
   "file_extension": ".py",
   "mimetype": "text/x-python",
   "name": "python",
   "nbconvert_exporter": "python",
   "pygments_lexer": "ipython3",
   "version": "3.8.3"
  },
  "orig_nbformat": 2,
  "kernelspec": {
   "name": "python383jvsc74a57bd0767d51c1340bd893661ea55ea3124f6de3c7a262a8b4abca0554b478b1e2ff90",
   "display_name": "Python 3.8.3 64-bit ('base': conda)"
  }
 },
 "nbformat": 4,
 "nbformat_minor": 2,
 "cells": [
  {
   "cell_type": "code",
   "execution_count": 5,
   "metadata": {},
   "outputs": [],
   "source": [
    "import pandas as pd \n",
    "import numpy as np \n",
    "\n",
    "title = ['source','target','time']\n",
    "data_all = pd.read_csv('sx-mathoverflow.txt',header=None,sep=' ',names=title)\n",
    "# a2q\n",
    "data1 = pd.read_csv('sx-mathoverflow-a2q.txt',header=None,sep=' ',names=title)\n",
    "# c2a\n",
    "data2 = pd.read_csv('sx-mathoverflow-c2a.txt',header=None,sep=' ',names=title)\n",
    "# c2q\n",
    "data3 = pd.read_csv('sx-mathoverflow-c2q.txt',header=None,sep=' ',names=title)"
   ]
  },
  {
   "cell_type": "code",
   "execution_count": 6,
   "metadata": {},
   "outputs": [
    {
     "output_type": "execute_result",
     "data": {
      "text/plain": [
       "   source  target        time label\n",
       "0       1       4  1254192988   a2q\n",
       "1       3       4  1254194656   a2q\n",
       "2       1       2  1254202612   a2q\n",
       "3      25       1  1254232804   a2q\n",
       "4      14      16  1254263166   a2q"
      ],
      "text/html": "<div>\n<style scoped>\n    .dataframe tbody tr th:only-of-type {\n        vertical-align: middle;\n    }\n\n    .dataframe tbody tr th {\n        vertical-align: top;\n    }\n\n    .dataframe thead th {\n        text-align: right;\n    }\n</style>\n<table border=\"1\" class=\"dataframe\">\n  <thead>\n    <tr style=\"text-align: right;\">\n      <th></th>\n      <th>source</th>\n      <th>target</th>\n      <th>time</th>\n      <th>label</th>\n    </tr>\n  </thead>\n  <tbody>\n    <tr>\n      <th>0</th>\n      <td>1</td>\n      <td>4</td>\n      <td>1254192988</td>\n      <td>a2q</td>\n    </tr>\n    <tr>\n      <th>1</th>\n      <td>3</td>\n      <td>4</td>\n      <td>1254194656</td>\n      <td>a2q</td>\n    </tr>\n    <tr>\n      <th>2</th>\n      <td>1</td>\n      <td>2</td>\n      <td>1254202612</td>\n      <td>a2q</td>\n    </tr>\n    <tr>\n      <th>3</th>\n      <td>25</td>\n      <td>1</td>\n      <td>1254232804</td>\n      <td>a2q</td>\n    </tr>\n    <tr>\n      <th>4</th>\n      <td>14</td>\n      <td>16</td>\n      <td>1254263166</td>\n      <td>a2q</td>\n    </tr>\n  </tbody>\n</table>\n</div>"
     },
     "metadata": {},
     "execution_count": 6
    }
   ],
   "source": [
    "data1['label'] = 'a2q'\n",
    "data2['label'] = 'c2a'\n",
    "data3['label'] = 'c2q'\n",
    "\n",
    "data0 = pd.concat([data1,data2,data3])\n",
    "data = pd.merge(data_all,data0,on=title)\n",
    "data.head()"
   ]
  },
  {
   "cell_type": "code",
   "execution_count": 17,
   "metadata": {},
   "outputs": [],
   "source": [
    "data.drop_duplicates()\n",
    "data[['source','target','label']].to_csv('math_all.txt',sep='\\t',index=None,header=None)"
   ]
  },
  {
   "cell_type": "code",
   "execution_count": 19,
   "metadata": {},
   "outputs": [
    {
     "output_type": "stream",
     "name": "stdout",
     "text": [
      "506550.0 143441.33333333334 260440.0 407278.0 675400.0 506614.0\n"
     ]
    }
   ],
   "source": [
    "print(data_all.size/3,data1.size/3,data2.size/3,data3.size/2,data0.size/3,data.size/4)"
   ]
  },
  {
   "cell_type": "code",
   "execution_count": 22,
   "metadata": {},
   "outputs": [
    {
     "output_type": "stream",
     "name": "stdout",
     "text": [
      "506614.0\n"
     ]
    }
   ],
   "source": [
    "#print(data[data.duplicated()].count())\n",
    "print(data.size/4)"
   ]
  },
  {
   "cell_type": "code",
   "execution_count": 24,
   "metadata": {},
   "outputs": [
    {
     "output_type": "stream",
     "name": "stdout",
     "text": [
      "21980 19774\n"
     ]
    }
   ],
   "source": [
    "dd1 = data.set_index('target')['source'].to_dict()\n",
    "dd2 = data.set_index('source')['target'].to_dict()\n",
    "\n",
    "k1 = list(dd1.keys())\n",
    "k2 = list(dd2.keys())\n",
    "\n",
    "print(len(k1),len(k2))"
   ]
  },
  {
   "cell_type": "code",
   "execution_count": 25,
   "metadata": {},
   "outputs": [
    {
     "output_type": "stream",
     "name": "stdout",
     "text": [
      "24818\n   0  counter\n0  1        0\n1  2        1\n2  3        2\n3  4        3\n4  7        4\n"
     ]
    }
   ],
   "source": [
    "en = list(set(k1).union(set(k2)))\n",
    "print(len(en))\n",
    "\n",
    "entities = pd.DataFrame(en)\n",
    "entities['counter'] = range(len(entities))\n",
    "print(entities.head())"
   ]
  },
  {
   "cell_type": "code",
   "execution_count": 26,
   "metadata": {},
   "outputs": [],
   "source": [
    "entities.to_csv('entity2id.txt',header=None,sep='\\t',index=None)"
   ]
  },
  {
   "cell_type": "code",
   "execution_count": 27,
   "metadata": {},
   "outputs": [
    {
     "output_type": "stream",
     "name": "stdout",
     "text": [
      "  label  counter\n0   a2q        0\n1   c2a        1\n2   c2q        2\n"
     ]
    }
   ],
   "source": [
    "entities.columns = ['entity','counter']\n",
    "d = entities.set_index('entity')['counter'].to_dict()\n",
    "\n",
    "r = ['a2q','c2a','c2q']\n",
    "rr = pd.DataFrame(r)\n",
    "rr['counter'] = range(len(rr))\n",
    "rr.columns = ['label','counter']\n",
    "print(rr.head())"
   ]
  },
  {
   "cell_type": "code",
   "execution_count": 28,
   "metadata": {},
   "outputs": [],
   "source": [
    "rr.to_csv('relation2id.txt',header=None,sep='\\t',index=None)"
   ]
  },
  {
   "cell_type": "code",
   "execution_count": 29,
   "metadata": {},
   "outputs": [
    {
     "output_type": "stream",
     "name": "stdout",
     "text": [
      "   source  target        time label  t   s  r\n0       1       4  1254192988   a2q  3   0  0\n1       3       4  1254194656   a2q  3   2  0\n2       1       2  1254202612   a2q  1   0  0\n3      25       1  1254232804   a2q  0  13  0\n4      14      16  1254263166   a2q  8   7  0\n"
     ]
    }
   ],
   "source": [
    "r0 = rr.set_index('label')['counter'].to_dict()\n",
    "def fun(x,d):\n",
    "    return d[x]\n",
    "data['t'] = data['target'].apply(lambda x: fun(x,d))\n",
    "data['s'] = data['source'].apply(lambda x: fun(x,d))\n",
    "data['r'] = data['label'].apply(lambda x: fun(x,r0))\n",
    "print(data.head())"
   ]
  },
  {
   "cell_type": "code",
   "execution_count": 30,
   "metadata": {},
   "outputs": [],
   "source": [
    "f_data = data[['s','t','r']]\n",
    "f_data.to_csv('math_all.txt',header=None,sep='\\t',index=None)"
   ]
  },
  {
   "cell_type": "code",
   "execution_count": 31,
   "metadata": {},
   "outputs": [],
   "source": [
    "rand_train_all = f_data.sample(frac=0.8)\n",
    "rand_test = f_data[~f_data.index.isin(rand_train_all.index)]\n",
    "\n",
    "rand_train_all.to_csv('train_all.txt',header=None,sep='\\t',index=None)\n",
    "rand_test.to_csv('test2id.txt',header=None,sep='\\t',index=None)\n",
    "\n",
    "rand_train = rand_train_all.sample(frac=0.75)\n",
    "rand_valid = rand_train_all[~rand_train_all.index.isin(rand_train.index)]\n",
    "\n",
    "rand_train.to_csv('train2id.txt',header=None,sep='\\t',index=None)\n",
    "rand_valid.to_csv('valid2id.txt',header=None,sep='\\t',index=None)"
   ]
  },
  {
   "cell_type": "code",
   "execution_count": null,
   "metadata": {},
   "outputs": [],
   "source": []
  }
 ]
}